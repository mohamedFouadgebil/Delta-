{
 "cells": [
  {
   "cell_type": "code",
   "execution_count": 2,
   "id": "9f2e2b85",
   "metadata": {},
   "outputs": [],
   "source": [
    "import numpy as np\n",
    "import tkinter as tk\n",
    "from tkinter import messagebox\n",
    "\n",
    "def sigmoid(x):\n",
    "    return 1 / (1 + np.exp(-x))\n",
    "\n",
    "def calculate_outputs():\n",
    "    try:\n",
    "        i1 = float(entry_i1.get())\n",
    "        i2 = float(entry_i2.get())\n",
    "        \n",
    "        w1, w2, w3, w4 = 0.15, 0.20, 0.25, 0.30\n",
    "        w5, w6, w7, w8 = 0.40, 0.45, 0.50, 0.55\n",
    "        \n",
    "        b1, b2 = 0.35, 0.60\n",
    "        \n",
    "        h1_input = (i1 * w1) + (i2 * w3) + b1\n",
    "        h2_input = (i1 * w2) + (i2 * w4) + b1\n",
    "        \n",
    "        h1_output = sigmoid(h1_input)\n",
    "        h2_output = sigmoid(h2_input)\n",
    "        \n",
    "        o1_input = (h1_output * w5) + (h2_output * w7) + b2\n",
    "        o2_input = (h1_output * w6) + (h2_output * w8) + b2\n",
    "        \n",
    "        o1_output = sigmoid(o1_input)\n",
    "        o2_output = sigmoid(o2_input)\n",
    "        \n",
    "        messagebox.showinfo(\"Network Output\", f\"Output o1: {o1_output:.4f}\\nOutput o2: {o2_output:.4f}\")\n",
    "    except ValueError:\n",
    "        messagebox.showerror(\"Input Error\", \"Please enter valid numeric values for inputs.\")\n",
    "\n",
    "top = tk.Tk()\n",
    "top.title(\"Neural Network Calculator\")\n",
    "tk.Label(top, text=\"Input i1:\").pack()\n",
    "entry_i1 = tk.Entry(top)\n",
    "entry_i1.pack()\n",
    "entry_i1.insert(0, \"0.05\")\n",
    "tk.Label(top, text=\"Input i2:\").pack()\n",
    "entry_i2 = tk.Entry(top)\n",
    "entry_i2.pack()\n",
    "entry_i2.insert(0, \"0.10\")\n",
    "tk.Button(top, text=\"Calculate Outputs\", command=calculate_outputs).pack(pady=20)\n",
    "top.mainloop()"
   ]
  },
  {
   "cell_type": "code",
   "execution_count": null,
   "id": "f2caa4f7",
   "metadata": {},
   "outputs": [],
   "source": []
  }
 ],
 "metadata": {
  "kernelspec": {
   "display_name": "Python 3 (ipykernel)",
   "language": "python",
   "name": "python3"
  },
  "language_info": {
   "codemirror_mode": {
    "name": "ipython",
    "version": 3
   },
   "file_extension": ".py",
   "mimetype": "text/x-python",
   "name": "python",
   "nbconvert_exporter": "python",
   "pygments_lexer": "ipython3",
   "version": "3.9.13"
  }
 },
 "nbformat": 4,
 "nbformat_minor": 5
}
